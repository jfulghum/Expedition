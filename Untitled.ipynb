{
 "cells": [
  {
   "cell_type": "code",
   "execution_count": 6,
   "metadata": {
    "collapsed": false
   },
   "outputs": [
    {
     "ename": "ParseError",
     "evalue": "mismatched tag: line 1, column 888 (<string>)",
     "output_type": "error",
     "traceback": [
      "\u001b[0;36m  File \u001b[0;32m\"<string>\"\u001b[0;36m, line \u001b[0;32munknown\u001b[0m\n\u001b[0;31mParseError\u001b[0m\u001b[0;31m:\u001b[0m mismatched tag: line 1, column 888\n"
     ]
    }
   ],
   "source": [
    "import xml.etree.ElementTree as ET\n",
    "from xml.etree.ElementTree import XMLParser\n",
    "\n",
    "document = \"<!DOCTYPE html><html><head><style>table {    width:100%;}table, th, td {    border: 1px solid black;    border-collapse: collapse;}th, td {    padding: 5px;    text-align: left;}table.names tr:nth-child(even) {    background-color: #eee;}table.names tr:nth-child(odd) {   background-color:#fff;}table.names th {    background-color: black;    color: white}</style></head><body><table>  <tr>    <td>Jill</td>    <td>Smith</td>    <td>50</td>  </tr>  <tr>    <td>Eve</td>    <td>Jackson</td>    <td>94</td>  </tr>  <tr>    <td>John</td>    <td>Doe</td>    <td>80</td>  </tr></table><br><!--comment with a lot of <<<<<<<< <tag1> <tag2> <tag3> <OopsYouVeGotWA> >>>>>>>> --><table class=\\\"names\\\">  <tr>    <td>Jill</td>    <td>Smith</td>    <td>50</td>  </tr>  <tr>    <td>Eve</td>    <td>Jackson</td>    <td>94</td>  </tr>  <tr>    <td>John</td>    <td>Doe</td>    <td>80</td>  </tr></table></body></html>\"\n",
    "\n",
    "def pageComplexity(document):\n",
    "    import xml.etree.ElementTree as ET\n",
    "    \n",
    "    def traverseTree(rootElement, acc, maxDepth, depth):\n",
    "        if depth > maxDepth:\n",
    "            maxDepth = depth\n",
    "            acc = [rootElement.tag]\n",
    "        elif depth == maxDepth and rootElement.tag not in acc:\n",
    "            acc.append(rootElement.tag)\n",
    "        \n",
    "        for child in rootElement:\n",
    "            l, m = traverseTree(child, acc, maxDepth, depth+1)\n",
    "            if m >= maxDepth:\n",
    "                maxDepth = m\n",
    "                acc = l\n",
    "        return (acc, maxDepth)\n",
    "    \n",
    "    ET.fromstring(document)\n",
    "    try:\n",
    "        print('Entered Try')\n",
    "        rootElement = ET.fromstring(document)\n",
    "        ret, maxDepth = traverseTree(rootElement, [], -1, 0)\n",
    "    except:\n",
    "        print('NOOOOO')\n",
    "        ret = []\n",
    "    \n",
    "    return sorted(ret)\n",
    "\n",
    "pageComplexity(document)"
   ]
  },
  {
   "cell_type": "code",
   "execution_count": null,
   "metadata": {
    "collapsed": true
   },
   "outputs": [],
   "source": []
  }
 ],
 "metadata": {
  "kernelspec": {
   "display_name": "Python 3",
   "language": "python",
   "name": "python3"
  },
  "language_info": {
   "codemirror_mode": {
    "name": "ipython",
    "version": 3
   },
   "file_extension": ".py",
   "mimetype": "text/x-python",
   "name": "python",
   "nbconvert_exporter": "python",
   "pygments_lexer": "ipython3",
   "version": "3.6.0"
  }
 },
 "nbformat": 4,
 "nbformat_minor": 2
}
